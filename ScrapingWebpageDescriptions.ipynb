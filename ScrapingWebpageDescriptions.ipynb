{
 "cells": [
  {
   "cell_type": "code",
   "execution_count": 1,
   "metadata": {
    "collapsed": true
   },
   "outputs": [],
   "source": [
    "import urllib.request as urllib\n",
    "from bs4 import BeautifulSoup\n",
    "from bs4.element import Comment\n",
    "import numpy as np\n",
    "import pandas as pd"
   ]
  },
  {
   "cell_type": "code",
   "execution_count": 2,
   "metadata": {
    "collapsed": true
   },
   "outputs": [],
   "source": [
    "def openAndParse(html):\n",
    "    page = urllib.urlopen(html)\n",
    "    soup = BeautifulSoup(page, 'html.parser')\n",
    "    return soup\n",
    "def getText(soup, sec):\n",
    "    section_box = soup.find(sec[0])\n",
    "    section = section_box.text.strip()\n",
    "    return section"
   ]
  },
  {
   "cell_type": "markdown",
   "metadata": {},
   "source": [
    "['12life', '3dfitnessgymoc', '5elementsbruce', '9round', 'alkalignme', 'bakerranchyoga', 'barmethod', 'barrysbootcamp', 'bethechangeyoga', 'bike2thebeattustin', 'bikramyogairvine', 'caffeyoga', 'cardiobarre', 'carrillomuaythai', 'ckonorthtustin', 'clubpilates', 'corepoweryoga', 'corereform', 'crossfitinsanity', 'crossfittustin', 'ekamyoga', 'enerjibarre', 'fitnessonfire', 'fitpilatesstudio', 'fitwall', 'freedomride', 'hdxfit', 'ilovekickboxing', 'kaiafit', 'mixxyoga', 'neaumixfit', 'ocfit', 'ockmma', 'onejiujitsu', 'orangetheoryfitness', 'pilatesonpurpose', 'pilatespluscycle', 'pureempower', 'radianthotyoga', 'rayoga', 'roundersmma', 'spectrayoga', 'stellalunayoga', 'studiofixx', 'sunsparkyoga', 'teamoyama', 'thehauteroom', 'totalmmastudios', 'triadyogaandpilates', 'trimfitnessstudio', 'unionryde', 'vibeshotyoga', 'wildsideyoga', 'yogashaktistudio']"
   ]
  },
  {
   "cell_type": "code",
   "execution_count": 3,
   "metadata": {
    "collapsed": true
   },
   "outputs": [],
   "source": [
    "listOfPlaces=['http://the12.com/pages/the-brand', \n",
    "             'http://www.combatcostamesa.com', \n",
    "              'http://mixxyoga.com/our-story/']"
   ]
  },
  {
   "cell_type": "code",
   "execution_count": 4,
   "metadata": {
    "collapsed": true
   },
   "outputs": [],
   "source": [
    "def isNumber(string):\n",
    "    try:\n",
    "        int(string)\n",
    "        return True\n",
    "    except:\n",
    "        return False\n",
    "        \n",
    "def SubSplit(listOfStrings):\n",
    "     return [words for segments in listOfStrings for words in segments.split(\"\\xa0\")]\n",
    "        \n",
    "#url = \"http://www.combatcostamesa.com\"\n",
    "def GetText(url):\n",
    "    html = urllib.urlopen(url).read()\n",
    "    soup = BeautifulSoup(html, 'html.parser')\n",
    "\n",
    "    # kill all script and style elements\n",
    "    for script in soup([\"script\", \"style\"]):\n",
    "        script.extract()    # rip it out\n",
    "\n",
    "    # get text\n",
    "    text = soup.get_text()\n",
    "\n",
    "    # break into lines and remove leading and trailing space on each\n",
    "    lines = (line.strip() for line in text.splitlines())\n",
    "    # break multi-headlines into a line each\n",
    "    chunks = (phrase.strip() for line in lines for phrase in line.split(\"  \"))\n",
    "    # drop blank lines\n",
    "\n",
    "    text = '\\n'.join(chunk for chunk in chunks if chunk)\n",
    "    #print(text.encode('utf-8'))\n",
    "    strings = [x for x in text.split('\\n') if len(x) > 100]\n",
    "    strings = SubSplit(strings)\n",
    "    goodstrings=[]\n",
    "    ##PROBABLY REMOVE CAPITALIZED WORDS\n",
    "    for b in strings:\n",
    "        if all([word[0].isupper() for word in b.split(\" \") if not isNumber(word) and len(word)>1]):\n",
    "            continue\n",
    "        else:\n",
    "            goodstrings.append(b)\n",
    "    output = \" \".join(x for x in goodstrings)\n",
    "    return output"
   ]
  },
  {
   "cell_type": "code",
   "execution_count": 103,
   "metadata": {},
   "outputs": [
    {
     "name": "stdout",
     "output_type": "stream",
     "text": [
      "here True\n",
      "here True\n",
      "here False\n",
      "here False\n"
     ]
    },
    {
     "data": {
      "text/plain": [
       "'Offering Group Training Classes & Nutrition Programs to the Irvine, Costa Mesa & Huntington Beach areas. Experience our dynamic group training classes and highly personalized nutrition coaching for sustainable healthy living. Combining the latest innovations in the fitness industry with scientifically designed, circuit-style, high intensity interval workouts developed for maximum caloric burn in under 60 minutes, members of The 12 discover unparalleled results. Why be a 10 when you can be a 12?'"
      ]
     },
     "execution_count": 103,
     "metadata": {},
     "output_type": "execute_result"
    }
   ],
   "source": [
    "GetText('http://the12.com')"
   ]
  },
  {
   "cell_type": "code",
   "execution_count": 104,
   "metadata": {},
   "outputs": [
    {
     "name": "stdout",
     "output_type": "stream",
     "text": [
      "here True\n",
      "here True\n",
      "here False\n",
      "here False\n",
      "here False\n",
      "here False\n"
     ]
    },
    {
     "data": {
      "text/plain": [
       "'Founding Partners and Entrepreneurs, Josh Boyd and Derek Graham, began their careers in the corporate world. Experiencing first-hand the impact of 12-Hour office days- which routinely ended with late night calorie-rich social dinners, Josh and Derek finally had enough. Choosing to break the cycle and face change head on, Josh and Derek decided to put their health first as they were “sick and tired” of being sick and tired. After all- if they weren’t at their best mentally, emotionally and physically, their business endeavors, relationships and overall health would pay the ultimate price.Founding the 12 Week Fitness Challenge, Josh and Derek both achieved unprecedented levels of fitness.  The nutritional knowledge gained and High Intensity Interval Group Training experience opened their eyes to a prescription that was powerful for change. However, they also recognized the role that community played in their personal achievements and realized that this was part of the dynamic platform that was needed to propel their success. Aligning the core components of sustainable nutrition education and group training in an environment that was fostered by motivation, support and solutions…The 12 was born.The 12’s Group Training classes target specific muscle groups daily, providing clients of every shape, size and ability with a focused workout that reveals irrefutable results.  We utilize a scientific approach that is designed to produce the maximum results.Relentlessly working to bring The 12 experience to life in locations near and far, The 12 began in 2013 with 90 members and has grown to over 7,500 active members as of 2016. By joining forces and following their purpose, Josh Boyd and Derek Graham have been able to touch the lives of many and cherish each day their team of dynamic professionals gets to impact their community. Recognized as industry leaders and innovators, The12 continues to be on the forefront of the fitness industry, always and in all ways.'"
      ]
     },
     "execution_count": 104,
     "metadata": {},
     "output_type": "execute_result"
    }
   ],
   "source": [
    "GetText('http://the12.com/pages/the-brand')"
   ]
  },
  {
   "cell_type": "code",
   "execution_count": 109,
   "metadata": {},
   "outputs": [
    {
     "data": {
      "text/plain": [
       "'At Mixx Yoga, we believe an ancient practice can be modern. We create a dynamic and constantly evolving fusion of yoga with HIIT cardio and plyometrics. Then we work together as you reach your fitness “aha!” moment. Spend 60 minutes with us and we’ll give those 60 minutes right back to you in the form of yoga asanas to stretch you in all the right places, adrenaline soaring cardio rounds, and soothing relaxation. Allow your intentions to be stronger than your excuses: Your body, mind and spirit deserve your effort. Take the first step onto your mat and step off a different person. We are misFITs of yoga. We inspire empowerment on and off the mat and do this in an untraditional way. We check our egos at the door; We turn up the music and turn down the stress. We step onto our mats. We jump, we hold, we balance, and float. And when we fall, which we inevitably do, we only see one option: to stand back up.'"
      ]
     },
     "execution_count": 109,
     "metadata": {},
     "output_type": "execute_result"
    }
   ],
   "source": [
    "GetText('http://mixxyoga.com/our-story/')\n",
    "GetText('http://mixxyoga.com/mantra/')"
   ]
  },
  {
   "cell_type": "code",
   "execution_count": 106,
   "metadata": {},
   "outputs": [
    {
     "name": "stdout",
     "output_type": "stream",
     "text": [
      "here False\n",
      "here False\n",
      "here False\n",
      "here True\n",
      "here True\n",
      "here True\n",
      "here True\n",
      "here True\n",
      "here True\n",
      "here True\n",
      "here True\n",
      "here True\n",
      "here False\n",
      "here False\n",
      "here False\n",
      "here False\n",
      "here False\n",
      "here False\n",
      "here False\n",
      "here False\n",
      "here False\n",
      "here False\n",
      "here False\n",
      "here False\n",
      "here True\n",
      "here True\n",
      "here True\n",
      "here True\n",
      "here True\n",
      "here False\n",
      "here True\n",
      "here False\n",
      "here False\n",
      "here False\n"
     ]
    },
    {
     "data": {
      "text/plain": [
       "'Have you ever felt unsafe in an empty parking lot? Felt frustrated trying to lose weight? Looking for a hobby that is fulfilling rather than just killing time? A place to belong, a community that can be more than just a notification on a phone?We know what it is like to run the daily grind and feel like we are at the mercy of the whims of the world, to feel run down, like there is some way that life could be better.Since 2007 5 Elements has been building a team of experts that specialize in helping our members overcome their greatest challenges. Through training, community and discipline you can be stronger and more centered. With a complete set of programs we can build you a custom training regime to meet your needs and goals.Be more confident, feel more secure in your surroundings, improve your health, look your best and do it with like minded positive people. You can be more than you ever thought.Click here to enroll in a FREE trial session. Get 2 Weeks of unlimited access to all classes and training for only $39 - What is 5 Elements?Have you ever walked into a gym and wondered what the hell am I doing here? Lack or guidance in the general gym world. Afraid of 20 year old kids with face tattoos tearing your head off at the MMA gym? Not into the dogmatic practice in funny pajamas that some traditional schools exhibit? If you have been around the martial arts and fitness world as we have you have seen it all. We have adopted the lifestyle of clean living and the martial lifestyle yet had grown tired of all the gym cliches. Lets be real for a minute. In Southern California we have the BEST of the BEST in the martial arts and fitness worlds. The problem is that their knowledge is hard to access in the crazy gym cultures that prevail. That is why the idea for 5 Elements was born. A place where we could gather the best practices and ideas. We could build a friendly open community. Built around professional attitudes and a desire to help YOU get to your goals. This place is designed from the ground up to be a community and a resource to make sure you get to your GOALS.Find out what the difference is try a FREE trial by filling out the form today: No REALLY What the heck is 5 Elements?It is a vehicle to study and examine the practice of martial arts. Focusing on practical application, disciplined discovery and practice of universal basic principles and self critical practice and study of the dynamics of martial arts application. With the purpose of teaching you the practitioner how to understand, examine, and ultimately better learn martial arts. Way back in 2005 when the idea of 5 Elements was conceived and when Coach Tim was teaching out of his garage the whole idea was to find what the basic principles of martial arts were. He figured out that there were three measures that needed to be met. First and most obvious, is it effective? Through realistic drilling and study of real life self defense situations as well as close following of MMA and other combat sports combines with a critical view of efficacy the physical system was developed. To quote Bruce Lee \"Take what works, from where it works\".Second, Is the body being served? Do we get stronger, faster more responsive? Sometimes the training is too timid, too slow and doesn\\'t benefit the body. On the other side of the coin practice can be brutal yielding quick gains in toughness but a year in you have a trick shoulder a bad knee and a tweaked elbow are you still capable. It is imperative to build up and harden the body without breaking it. Sometimes we wear it down to rebuild it stronger but never break it.Third, is there growth as a person? Is the physical practice of martial arts serving the growth of the spirit as well. There is no greater truth about a person than what shows up on the mat. There are no lies no excuses and no where to hide. One can practice philosophy and one can be a fighter but to be an artist one has to do both. They are two sides of the coin. A painter can\\'t just study painting at some point they have to create. On the other hand one can\\'t become a master just by painting without examination. Only through the thoughtful execution of study and the constant application of that study does true mastery emerge. The best way to understand is to come find out for yourself: So Why 5 Elements?So if there were three principles why 5 Elements? This gets asked all of the time and almost anybody at the gym will be happy to discuss it. There are many symbolic uses of 5 Elements in several cultures. Primarily the study of Miyomoto Musashi\\'s book of Five Rings as well as a homage to many of Coach Tim\\'s original teachers. There is symbolism to almost everything here. We recommend everyone read the book to accompany their training. There is a practical side as well. The training in the Martial Arts Program is broken down into 5 Training units. As in the logo each unit overlaps the other and is practiced with the 4 other units in mind ion order to create a whole martial artist.Striking: The study of striking arts from the feetGrappling: The study of the fight on the groundClinch and Trap: The study of close range combat standing and on the ground. How to perfect control of distance and timingSelf Defense: How do our tactics, technique and most importantly mindset change in a self defense situationFootwork and Balance: The study of proper balance and positioning to support and get the most out of the other units.Check it out you can try a free class or a risk free two week trial: So You Are Just a Martial Arts Place?NO! We are not just a martial arts place. Our goal is to bring the transformative power of martial arts to all people. We also want to make sure that our members get the most out of their training. This means we have a full array of programs and support services. The combat sports and martial arts programs are 5 Elements, Kickboxing, Boxing and Escrima. To keep the body sharp we have Cage Fitness, Strength Training and HIIT Circuit Training. On top of that we have our own supplement line, meal prep service, cold press juice as well as comprehensive athletic performance evaluation tools. You need something to get better we can provide it. We want to see every member of out community grow and transform.Find out more: We have our own App for your mobile phone! Get it FREE to view schedules, sign into classes, and add reminders. 5 Elements MMA and Fitness   Costa Mesa, CA 92626(Between Baker and Bristol, next to The Commissary Lounge, right by The Camp) We are proud to team up with Sweat Angels. Every time anyone checks in at our location on Facebook, a donation will be made to a charity that is selected every month! The more you train and check in, the more good you do for yourself and others! All content contained within site copyright 2015, 5 Elements MMA and Fitness, All Rights Reserved. Powered by SquarespaceClick Here for our Privacy Policy'"
      ]
     },
     "execution_count": 106,
     "metadata": {},
     "output_type": "execute_result"
    }
   ],
   "source": [
    "GetText('http://www.combatcostamesa.com')"
   ]
  },
  {
   "cell_type": "markdown",
   "metadata": {},
   "source": [
    ", 'https://www.barrysbootcamp.com/studios/'"
   ]
  },
  {
   "cell_type": "code",
   "execution_count": null,
   "metadata": {
    "collapsed": true
   },
   "outputs": [],
   "source": [
    "story_box = soup.find('div', attrs={'class': 'story'})\n",
    "timeline_box = soup.find('div', attrs={'class': 'timeline'})"
   ]
  },
  {
   "cell_type": "code",
   "execution_count": null,
   "metadata": {
    "collapsed": true
   },
   "outputs": [],
   "source": [
    "story = story_box.text.strip() # strip() is used to remove starting and trailing\n",
    "print (story)\n",
    "timeline = timeline_box.text.strip() # strip() is used to remove starting and trailing\n",
    "print (timeline)"
   ]
  },
  {
   "cell_type": "code",
   "execution_count": null,
   "metadata": {
    "collapsed": true
   },
   "outputs": [],
   "source": [
    "USA_box = soup.find('h2')\n",
    "USAloc = USA_box.text.strip()\n",
    "start=10&l=g\n",
    "print (USAloc)"
   ]
  },
  {
   "cell_type": "code",
   "execution_count": 79,
   "metadata": {},
   "outputs": [],
   "source": [
    "soup = openAndParse(\"https://www.yelp.com/search?find_desc=Fitness+lasses&find_loc=Palo+Alto,+CA&start=\"+str(page)+\"&l=g:-121.93794250488281,37.63604657710304,-122.36915588378906,37.36367036573305\")\n",
    "#section_box = soup.find('h3', attrs={'class':\"search-result-title\"})"
   ]
  },
  {
   "cell_type": "markdown",
   "metadata": {},
   "source": [
    "section = soup.find_all('h3', attrs={'class':\"search-result-title\"})"
   ]
  },
  {
   "cell_type": "markdown",
   "metadata": {},
   "source": [
    "for si, s in enumerate(section):\n",
    "    lt = s.find_all('span', attrs={'class':\"indexed-biz-name\"})\n",
    "    if not lt: continue\n",
    "    l2=str(lt).split('span')\n",
    "    print(si, l2[-3][1:-2])"
   ]
  },
  {
   "cell_type": "code",
   "execution_count": null,
   "metadata": {
    "collapsed": true
   },
   "outputs": [],
   "source": []
  },
  {
   "cell_type": "code",
   "execution_count": 134,
   "metadata": {},
   "outputs": [],
   "source": [
    "def parseIt(soup):\n",
    "    section = soup.find_all('div', attrs={'class':'main-attributes'})\n",
    "    for si, s in enumerate(section):\n",
    "        namesec = s.find('img')\n",
    "        name = namesec.get('alt', '')\n",
    "        if s.find('span', attrs={'class': 'yloca-tip'}): \n",
    "            continue\n",
    "        reviewsec = s.find('span', attrs={'class': 'review-count rating-qualifier'})\n",
    "        try:\n",
    "            review = str(reviewsec).split('>')[1][:-6]\n",
    "        except:\n",
    "            print(\"review\", reviewsec)\n",
    "            continue\n",
    "        review = review[13:-4].split(\" \")[0]\n",
    "        #print (\"1\", name, review)\n",
    "        if int(review) < 15: continue\n",
    "        typesec = s.find('span', attrs={'class': 'category-str-list'})\n",
    "        types = [str(a).split('>')[-2][:-3] for a in typesec.find_all('a')]\n",
    "        #print(\"2\",name)\n",
    "        return name, types"
   ]
  },
  {
   "cell_type": "code",
   "execution_count": 135,
   "metadata": {},
   "outputs": [
    {
     "name": "stdout",
     "output_type": "stream",
     "text": [
      "Palo+Alto\n",
      "Menlo+Park\n",
      "Mountain+View\n",
      "Sunnyvale\n",
      "Los+Altos\n",
      "Stanford\n",
      "San+Mateo\n",
      "Loyola\n",
      "review None\n",
      "review None\n",
      "Portola+Valley\n",
      "Redwood+City\n",
      "San+Carlos\n",
      "Daly+City\n",
      "South+San+Francisco\n"
     ]
    }
   ],
   "source": [
    "placeDict={}\n",
    "for place in ['Palo+Alto', 'Menlo+Park','Mountain+View', 'Sunnyvale', 'Los+Altos', \n",
    "             'Stanford','San+Mateo', 'Loyola','Portola+Valley', 'Redwood+City', 'San+Carlos', \n",
    "              'Daly+City', 'South+San+Francisco']:\n",
    "    print(place)\n",
    "    for page in [0, 10, 20, 30, 40, 50, 60, 70, 80, 90]:\n",
    "        #soup = openAndParse(\"https://www.yelp.com/search?find_desc=Fitness+lasses&find_loc=Palo+Alto,+CA&start=\"+str(page)+\"&l=g:-121.93794250488281,37.63604657710304,-122.36915588378906,37.36367036573305\")\n",
    "        soup = openAndParse(\"https://www.yelp.com/search?find_desc=fitness+classes&find_loc=\"+place+\"%2C+CA&start=\"+str(page))\n",
    "        if parseIt(soup):\n",
    "            name, types = parseIt(soup)\n",
    "            placeDict[name]=types\n"
   ]
  },
  {
   "cell_type": "code",
   "execution_count": 136,
   "metadata": {},
   "outputs": [
    {
     "name": "stdout",
     "output_type": "stream",
     "text": [
      "dict_keys(['Uforia Studios', 'Avalon Yoga International, Inc.', 'Pure Barre - Palo Alto', 'BalanCenter Massage & Fitness Palo Alto', 'Zumba with Nazli', 'Samyama Yoga Center', 'Hyper-Active Monkey Fitness', '3FIT', 'KOA Fitness Mountain View', 'Peacebank Yoga Studio', 'Studio Rincon', 'Poletential', 'barre3 - Los Altos', 'Tosetti Institute of MMA & Fitness', 'Yoga Source', '24 Hour Fitness - Redwood Cit', 'Studio Kicks Palo Alto', 'YogaWorks Palo Alto', 'Transform Fitness Studio', 'Core Studio', 'FNS Training Center', 'Studio K-Fit', 'The Bar Method', 'Planet Granite', 'IMPACT Kickboxing Fitness', 'Tandez Academy of Martial Arts', 'Ironwill Extreme Fitness', 'Orangetheory Fitness Downtown Sunnyvale', 'Kaizen Fitness', 'The Field Fitness', 'American Kickboxing Academy', 'FIT and CrossFIT Los Altos', 'CorePower Yoga', 'Momentum Cycling Studio', 'Fun2befit - Silicon Valley', 'Bomitra Yoga Mountain View', 'Dance Identity', '24 Hour Fitness - Mountain View Super-Sport', 'Amity CrossFit', 'Veksler Academy of Music & Dance - Mountain View', 'Performance Science Training Institute', 'Reach Fitness Club', 'Lululemon Athletica', 'Revelry Fitness & Activewear', 'Equinox San Mateo', \"Rana's Academy of Dance\", 'Crunch', 'B Street Boxing', 'Vibe 365 Fitness', 'Fusion Beatz', 'Jen Su Yoga Instructor', 'Junior Gym', 'Core Total Fitness', 'PhysioFit Physical Therapy and Wellness', 'SickFit Bootcamp', 'Sunnyvale Martial Arts Academy', 'FIT4MOM SF Peninsula', 'El Camino YMCA', 'City Sports Club', 'Swing or Nothing', 'Healing Bodies Healing Souls Wellness Center', 'Mobius Fit', 'My Gym', 'Noxcuses Fitness', 'BareBones Training', 'Heartcore', 'Fit For Life Solutions', \"King's Camps and Fitness\", 'Homegrown Crossfit', 'Sequoia YMCA', 'NorCal CrossFit', 'Strong Mama Fitness', 'Purely Pilates', 'RockSalt - San Carlos', 'MYNULIFSTUDIO', 'Undisputed Boxing Gym', 'Maximum Fitness & Performance', 'Club Oracle', 'Peninsula Community Center', 'Fitness Therapy', 'Evolve Training Center', 'fit GLEN fit', 'Peninsula Sports Medicine & Rehabilitation Center', 'Workout on the Hill', 'City College Wellness Center', 'Fit Bernal Fit', 'SF Kettlebells', 'Urban Mystic Movement & Sound', 'The Park Gym', 'Pilates ProWorks', 'Underground Fitness', 'Burn', 'Wheel House', 'Pacifica Beach Yoga', 'Studiomix', 'Vertical Method', 'Truve', 'CORE40 SoMa'])\n"
     ]
    }
   ],
   "source": [
    "print(placeDict.keys())"
   ]
  },
  {
   "cell_type": "code",
   "execution_count": 137,
   "metadata": {},
   "outputs": [
    {
     "name": "stdout",
     "output_type": "stream",
     "text": [
      "San+Francisco\n"
     ]
    }
   ],
   "source": [
    "for place in ['San+Francisco']:\n",
    "    print(place)\n",
    "    for page in [0, 10, 20, 30, 40, 50, 60, 70, 80, 90, 100, 110, 120, 130, 140, 150, 160, 170, 180, 190]:\n",
    "        #soup = openAndParse(\"https://www.yelp.com/search?find_desc=Fitness+lasses&find_loc=Palo+Alto,+CA&start=\"+str(page)+\"&l=g:-121.93794250488281,37.63604657710304,-122.36915588378906,37.36367036573305\")\n",
    "        soup = openAndParse(\"https://www.yelp.com/search?find_desc=fitness+classes&find_loc=\"+place+\"%2C+CA&start=\"+str(page))\n",
    "        if parseIt(soup):\n",
    "            name, types = parseIt(soup)\n",
    "            placeDict[name]=types"
   ]
  },
  {
   "cell_type": "code",
   "execution_count": 139,
   "metadata": {},
   "outputs": [
    {
     "name": "stdout",
     "output_type": "stream",
     "text": [
      "['Gyms', 'Pilates']\n"
     ]
    }
   ],
   "source": [
    "print(placeDict['Burn'])"
   ]
  },
  {
   "cell_type": "code",
   "execution_count": 138,
   "metadata": {},
   "outputs": [
    {
     "name": "stdout",
     "output_type": "stream",
     "text": [
      "dict_keys(['Uforia Studios', 'Avalon Yoga International, Inc.', 'Pure Barre - Palo Alto', 'BalanCenter Massage & Fitness Palo Alto', 'Zumba with Nazli', 'Samyama Yoga Center', 'Hyper-Active Monkey Fitness', '3FIT', 'KOA Fitness Mountain View', 'Peacebank Yoga Studio', 'Studio Rincon', 'Poletential', 'barre3 - Los Altos', 'Tosetti Institute of MMA & Fitness', 'Yoga Source', '24 Hour Fitness - Redwood Cit', 'Studio Kicks Palo Alto', 'YogaWorks Palo Alto', 'Transform Fitness Studio', 'Core Studio', 'FNS Training Center', 'Studio K-Fit', 'The Bar Method', 'Planet Granite', 'IMPACT Kickboxing Fitness', 'Tandez Academy of Martial Arts', 'Ironwill Extreme Fitness', 'Orangetheory Fitness Downtown Sunnyvale', 'Kaizen Fitness', 'The Field Fitness', 'American Kickboxing Academy', 'FIT and CrossFIT Los Altos', 'CorePower Yoga', 'Momentum Cycling Studio', 'Fun2befit - Silicon Valley', 'Bomitra Yoga Mountain View', 'Dance Identity', '24 Hour Fitness - Mountain View Super-Sport', 'Amity CrossFit', 'Veksler Academy of Music & Dance - Mountain View', 'Performance Science Training Institute', 'Reach Fitness Club', 'Lululemon Athletica', 'Revelry Fitness & Activewear', 'Equinox San Mateo', \"Rana's Academy of Dance\", 'Crunch', 'B Street Boxing', 'Vibe 365 Fitness', 'Fusion Beatz', 'Jen Su Yoga Instructor', 'Junior Gym', 'Core Total Fitness', 'PhysioFit Physical Therapy and Wellness', 'SickFit Bootcamp', 'Sunnyvale Martial Arts Academy', 'FIT4MOM SF Peninsula', 'El Camino YMCA', 'City Sports Club', 'Swing or Nothing', 'Healing Bodies Healing Souls Wellness Center', 'Mobius Fit', 'My Gym', 'Noxcuses Fitness', 'BareBones Training', 'Heartcore', 'Fit For Life Solutions', \"King's Camps and Fitness\", 'Homegrown Crossfit', 'Sequoia YMCA', 'NorCal CrossFit', 'Strong Mama Fitness', 'Purely Pilates', 'RockSalt - San Carlos', 'MYNULIFSTUDIO', 'Undisputed Boxing Gym', 'Maximum Fitness & Performance', 'Club Oracle', 'Peninsula Community Center', 'Fitness Therapy', 'Evolve Training Center', 'fit GLEN fit', 'Peninsula Sports Medicine & Rehabilitation Center', 'Workout on the Hill', 'City College Wellness Center', 'Fit Bernal Fit', 'SF Kettlebells', 'Urban Mystic Movement & Sound', 'The Park Gym', 'Pilates ProWorks', 'Underground Fitness', 'Burn', 'Wheel House', 'Pacifica Beach Yoga', 'Studiomix', 'Vertical Method', 'Truve', 'CORE40 SoMa', 'HIT Fit SF', 'Fitness Urbano', \"Mike's Boot Camp\", 'CORE40 Nob Hill', 'The Olympic Club', 'ThriveSF Fitness', 'SoulCycle - Union Street', 'FITNESS SF - Fillmore', 'Body Matrix Personal Training', 'Caroline Jordan Fitness', 'Orangetheory Fitness San Francisco - Mission Bay', 'Koi Fitness', 'Elaine Oyang Yoga & Nutritional Therapy', 'Bay Club San Francisco', 'Omulu Capoeira', 'BlakeFIT'])\n"
     ]
    }
   ],
   "source": [
    "print(placeDict.keys())"
   ]
  },
  {
   "cell_type": "markdown",
   "metadata": {},
   "source": [
    "HASHTAGS:\n",
    "\"uforiastudios\", \"avalonyoga\",\"purebarre\", \"\", \"\", \"samyamayogacenter\", \"\", \"my3fit\", \n",
    "\"koafitness\", \"peacebankyoga\", \"studiorincon\",\"poletential\",\"B3strong\"/\"barre3losaltos\",\n",
    "\"tosettiinstitute\"*, \"yogasourcepaloalto\",\"\",\"studiokickspaloalto\"*,\"yogaworkspaloalto\", \"megamv\",\n",
    "\"corestudiospx\", \"fnsstrong\", \"stuidkfit\", \"barmethodpaloalto\", \"planetgranite\", \"impactkbf\", \n",
    "\"tandezacademy\"*,\"ironwillfitnesscg\", \"otfdtsv\", \"\",\"fieldfitness\", (\"aka\", \"weareaka\", \"teamaka\"),\n",
    "\"crossfitlosaltos\"(\"idk if this is personal training\"),\"liveyoupower/corepoweryoga\", \n",
    "\"momentumcyclingstudio*\", \"fun2befit\"(\"kinda personal trainer\"), \"bomitrayogamountainview\",\n",
    "\"danceidentity (check tags)\", \"amitycrossfit\",\"\",\"\",\"\",\"\", \"wearerevelry\",\"equinoxpaloalto\"/\"equinoxsanmateo\",\n",
    "\"\",,\"crunchgym\",\"\",\"\",\"fusionbeatzbollywoodfitness\"/\"xtrimbollywood\",\"\",\"\",\"coretotalfitness\"*,\n",
    "\"\", \"sickfitbootcamp\", \"svmma\",\"\",\"\",\"\",\"\",\"\", \"mobiusfit\"*, \"\",\"\",\"<3core*\",\"\",\"?*\",\"hgxfit\",\n",
    "\"\",\"ncfit*(lots of random)\",\"\",\"mfp_cross_training\",\"\",\"\",\"ftstrong*\",\"evolvetrainingcenter\",\n",
    "\"fitglenfit/fitbernalfit\",\"\",\"\",\"\",\"\",\"\",\"urbanmystics*\",'theparkgym', \"pilatesproworks\",\n",
    "\"\",\"burnpilates\",'wheelhousesf',\"?\",\"studiomixsf\",\"verticalmethod\",\"truvefit\",'core40',\n",
    "\"hitfitsf\",\"\",\"\",\"\",\"\",\"\",\"soulcycle\",\"fitnesssf\",\"\",\"\",\"\",'koifitness* (take out vakoifitness757)',\n",
    "\"\",\"\",\"omulucapoeira\",\"\"\n",
    "\n",
    "##DO CHAIN NAME NOT WITH PALO ALTO\n",
    "STUDIOS:\n",
    "\"my3fit\",\"koafitness\", \"peacebank_yoga\", \"studiorincon\", \"poletential\", \"barre3\", \n",
    "\"tosetti institude of MMA and Fitness\"*, \"yogasourcepaloalto\", \"\", \"\", \"yogaworks\", \n",
    "\"transformmv\", \"corestudiospx\", \"fns360\", \"studiokfit\", \"barmethodpaloalto\", \"planetgranite\"(climbing),\n",
    "\"impactkbf\", \"\", \"ironwill.fitness.cg\", \"oftdowntownsunnyvale\", \"\",\"thefieldfitness\",\n",
    "\"americankickboxingacademy\", \"focusedtrainers\", \"corepoweryoga\",\"momentumcyclingstudio\",\n",
    "\"fun2befit_ceo\", \"bomitrayogamountainview\", \"dance_id\", \"amitycrossfit\",\"\",\"\",\"\",\"\", \n",
    "\"revelryfitness\",\"equinox\",\"\",\"crunchgym\",\"\",\"\",\"xtrimbollywood\",\"\",\"\", \"coretotalfitness\",\n",
    "\"\",\"\",\"sunnyvale_mma\",\"\",\"\",\"\",\"\",\"\", \"mobiusfit\",\"angienoxcuses\",\"\",\"iheartcore\",\"\",\"kingscamps\",\n",
    "\"hgxfit\",\"\",\"nc_fit\",\"\",\"mfp_cross_training\",\"\",\"\",\"_fitness_therapy_\",\"evolvetrainingcenter\",\n",
    "\"fitlocalfit\",\"\",\"\",\"\",\"\",\"\",\"urban_mystic_\",'theparkgym',\"pilatesproworks\",\"\", 'burnpilatessf',\n",
    "'wheelhousesf', 'pacifica_beach_yoga',\"studiomixsf\",\"verticalmethod\",\"truvefit\",\"core40\",\"\",\"\",\"\",\n",
    "\"\",\"\",\"soulcycle\",\"fitnesssf\",\"\",\"\",\"\",\"koifitness\",\"\",\"\",\"sfcapoeira\",\"\"\n",
    "\n",
    "TO CHECK\n",
    "'''\n",
    "\"circuscenter\",,\"georgejr's\",\"citywaves\",\"mecuryfitness\",\"trxtrainingcenter\",\n",
    ",\"moxie\"?,\"apexwellness\",\"mokshalifecenter\",\"bootcampsf?\",\"satori?\",,\"salondna\",,\"activesportsclub?\"\n",
    ",\"performancemovementbootcamp\",\"simplybalanced?\",\"pacificheightshealthclub\",\"ALTAfitness\",,\"pilatesonpage\"\n",
    ",\"hybridtraingin\",\"SALT?\",\"acrosports\",\"fluidyogas-check too fewf\",,\"raisethebarcycling\",\"fiveanimalskungfu\",\n",
    ",\"go2yoga\",\"nobelironfitness?\",\"excelsioryoga\",,\"zumbawithadriana\",\n",
    ",\"thecornerstudio\",\"lapista\",\"fitbymilo\",\"skyefit\",,\"body_mechanix?\",\"studioseastwestpilatesandgyrotonics\"\n",
    "\"barefit?\",\"empowerfit?\"\"butterflyyoga\",\"purelypilates?\",,\"dexafit\",,\"yogamaze\",\"eastwestyoga\",\"kbfitness?\",\n",
    "'''\n",
    "\n",
    "STUDIO\n",
    "\"barrysbootcamp\", \"yogaflowsf\", \"karmayoga_sf\", \"move_sf\",\"baptisteyoga\",\"bodyrokstudio\",\"pure_barre\",\n",
    "\"purushayoga\", \"bikramyoga\", \"yogatreesf\",\"livefitgym\",\"oceanbeachyogasf\", \"yogabeachsf\",\n",
    "\"mightypilates\",\"bodytempyoga\",\"onpointesf\",\"thedaileymethod\",\"avidfit\",\"revisionathletics\",\n",
    "\"taylorfitstudio\",\"thepadstudios\",\"basecampsf\",\"popphysique\",\"pelofitness\", \"k-onefitness\",\"cfgoldengate\",\n",
    "\"glowyogasf\",\"vrv3studios\",\"sheilakelleysfactor\",\"bodyfi\",\"rowclubsf\",\"RAEstudiossf\",\"swingsf\",\n",
    "\"eskabo_filipino_martial_arts\",\"bodybyburesh\",\"bayjiujitsu\",\"themindfulbody\",\"thecentersf\",\"yogagardensf\",\"trainflagship\",\n",
    "\"bendsf\",\"lavation\",\"sf_sivananda_yoga\",\"studio505danceandmovement\",\"elevategroupfitness\",\"movingartsstudio\",\n",
    "\"abmixedmartialarts\",\"zacchosf\",\"cardiotone\",\"jungshinfitness\",\"sanchezstreetstudio\",\n",
    "\"EHSpilatesandyoga\",\"yogamayusf\",\"missionyogasf\",\"ODCsf\",\"17thstreetac_sf\",\n",
    "\"ascendbody\",\"rougeandsaint\",\"lovestoryyoga\",\"laughinglotussf\",\"bombayjambymonakahn\",\"astayogasf\",\"bodychemistrystudio\",\n",
    "\"aerialartique\",\"ravenfitness\",\"linesballet\",\"centeredbodypilates\",\"thirdstreetboxing\",\"dogpatchdance\",\n",
    "\"ritualhotyoga\",\"MNTstudio\",\"doonyasf\",\"sfpoleanddance\",\"bodybeatz\",\"hwarangkwansf\",\n",
    "\"alexiscraigfit\",\"jbodyworks\",\"avantbarre\",\"epichybridtraingingsf\",\"ompowersf\",\"flywheel\",\"corepower\"\n",
    "\"graceyogamillbrae\",\"beingyogaburlingame\",\"beshamp\", \"basecampsf\",\"nandiyoga\",\"rocksalt_pilates\",\n",
    "\"scoopstudiopilates\",\"crossfit_oldcounty\",\"jazzerciseinc\",\"advanced.performance\",\n",
    "\"prajna_center\",\"balancetread\",\"teamubg\",\"thereelride\",\"goyhc\",\"IMPACTkbf\",\n",
    "\"mynulifstudio\",\"monarchcrossfit\",\"alkalign\",\"anandayoga\",\"groovitudedance\",\"boominbody\",\"xp360strengthandconditioning\",\n",
    "\"justbreathyoga\",\"zenith_sp\",\"BMIfitness\",\"live.lotus\",\"reddotfitness\",\"bethechangeyoga\",\n",
    "\"burnshakeroll\",\"fieldfitness\",\"flexfusionstudio\",\"method3fitness\", \"breathtogetheryoga\",\"crossfitsanjose\",\"knoxxmartialarts\",\n",
    "\"mcflosaltos\",\"yogasourcepaloalto\",\"crossfitmyo\",\"soulpilates2014\",\"liftbbb\",\"slimfitness\",\n",
    "\n",
    "COMBINED HASHTAGS\n",
    "\"barrysbootcamp\",\"yogaflowsf\",  \"karmayogasf\",\"movesf*sep\",\"whybaptisteyoga\",\"bodyrok\",\"purebarre\", \"purushayoga\",\n",
    "\"bikramyoga\",\"yogatreesf\",\"livefitgym\",\"oceanbeachyogasf\",\"yogabeachsf\",\"mightypilates\",\"bodytemptyoga\",\"onpointesf\",\n",
    "\"thedaileymethod\",\"thisavidfitlife*toofew\",\"revisionathletics\",\"tayloryourfitness\",\"thepadstudios\",\"basecampsf\",\n",
    "\"popphysique\",\"pelofitness\",\"konefitness*sep\",\"cfgoldengate\",\"glowyogasf\",\"vrv3studios\",\"sheilakelleysfactor\",\n",
    "\"bodyfi*takeoffmarybudyanu\",\"bootcampsf\",\"rowclubsf\",\"raestudios\", \"swingsf\",\"eskabodaan*sep\",\"bodybyburesh\",\"bayjiujitsu\",\n",
    "\"mindfulbodymysore\",\"thecentersf\",\"yogagardensf\",\"flagshipapc\",\"bendsf\",\"lavationstudio\",\"sivanandasf*toofew\",\n",
    "\"studio505dance*toofew\",\"elevategroupfitness\", \"movingartsstudio\",\"abmixedmartialarts\", \"zaccho\",\n",
    "\"cardiotone*sep?\",\"jungshinfitness\",\"sanchezstreetstudio\",\"ehspilates\",\"yogamayusf\",\"missionyogasf\",\n",
    "\"odctheater/odcdance\", \"17thstreetathleticclubsf\",\"ascendbody*sep?\",\"rougeandsaintfitness\",\"lovestoryyoga\",\n",
    "\"laughinglotussf\", \"bombayjam\",\"astayoga*sep\",\"bodychemistrystudio\",\"aerialartique\",\"ravenfitness\",\n",
    "\"alonzowisdom\",\"centeredbodypilates*toofew\",\"thirdstreetboxing\",\"dogpatchtribe\",\"ritualhotyoga\",\n",
    "\"MNTstudio\",\"doonyasf\",\"sfpoleanddance\",\"bodybeatzbeyonddance\",\"hwarangkwan\",\"alexiscraigfit*toofew\",\n",
    "\"jbodyworks\",\"avantbarre\",\"epichybridtraining\",\"ompowersf\",\"flywheel\",\"corepower\",\"graceyogamillbrae\",\n",
    "\"beingyogaburlingame\",\"brienshampfitbodybootcamp\",\"basecampsf\",\"nandiyoga*clean\",\"rocksaltfitness\",\n",
    "\"scoopstudiopilates\",\"teamcfoc\",\"jazzercise*mayby clean\",\"?\",\"prajnacommunity\",\"balancetread\",\n",
    "\"weareundisputed/undisputedboxinggym*clean?\",\"reelride*clean?\",\"goyhc\",\"impactkbf\",\n",
    "\"justbreathyogarivermark\",\"zenithsp\",\"bmifitness*clean?\",\"livelotus\",\"reddotfitness\", \"bethechangeyoga*skipoc\",\n",
    "\"burnshakeroll\",\"fieldfitness\",\"flexfusionstudios\",\"method3fitness\",\"breathtogetheryoga*clean\", \"crossfitsj\",\n",
    "\"knoxxmartialartsandfitness\",\"mintconditionfitness*clean\",\"yogasourcepaloalto\", \"crossfitmyo\",\"soulpilates2014*toofew\",\n",
    "\"liftbbb\", \"slimfitness*clean\", \"uforiastudios\", \"avalonyoga\",\"purebarre\", \"\", \"\", \"samyamayogacenter\", \"\", \"my3fit\", \n",
    "\"koadfitness\", \"peacebankyoga\", \"studiorincon\",\"poletential\",\"B3strong\"/\"barre3losaltos\",\n",
    "\"tosettiinstitute\"*, \"yogasourcepaloalto\",\"\",\"studiokickspaloalto\"*,\"yogaworkspaloalto\", \"megamv\",\n",
    "\"corestudiospx\", \"fnsstrong\", \"stuidkfit\", \"barmethodpaloalto\", \"planetgranite\", \"impactkbf\", \n",
    "\"tandezacademy\"*,\"ironwillfitnesscg\", \"otfdtsv\", \"\",\"fieldfitness\", (\"aka\", \"weareaka\", \"teamaka\"),\n",
    "\"crossfitlosaltos\"(\"idk if this is personal training\"),\"liveyoupower/corepoweryoga\", \n",
    "\"momentumcyclingstudio*\", \"fun2befit\"(\"kinda personal trainer\"), \"bomitrayogamountainview\",\n",
    "\"danceidentity (check tags)\", \"amitycrossfit\",\"\",\"\",\"\",\"\", \"wearerevelry\",\"equinoxpaloalto\"/\"equinoxsanmateo\",\n",
    "\"\",,\"crunchgym\",\"\",\"\",\"fusionbeatzbollywoodfitness\"/\"xtrimbollywood\",\"\",\"\",\"coretotalfitness\"*,\n",
    "\"\", \"sickfitbootcamp\", \"svmma\",\"\",\"\",\"\",\"\",\"\", \"mobiusfit\"*, \"\",\"\",\"<3core*\",\"\",\"?*\",\"hgxfit\",\n",
    "\"\",\"ncfit*(lots of random)\",\"\",\"mfp_cross_training\",\"\",\"\",\"ftstrong*\",\"evolvetrainingcenter\",\n",
    "\"fitglenfit/fitbernalfit\",\"\",\"\",\"\",\"\",\"\",\"urbanmystics*\",'theparkgym', \"pilatesproworks\",\n",
    "\"\",\"burnpilates\",'wheelhousesf',\"?\",\"studiomixsf\",\"verticalmethod\",\"truvefit\",'core40',\n",
    "\"hitfitsf\",\"\",\"\",\"\",\"\",\"\",\"soulcycle\",\"fitnesssf\",\"\",\"\",\"\",'koifitness* (take out vakoifitness757)',\n",
    "\"\",\"\",\"omulucapoeira\",\"\"\n",
    "\n",
    "\n",
    "\n",
    "\n",
    "\n",
    "\n",
    "\n",
    "\n"
   ]
  },
  {
   "cell_type": "code",
   "execution_count": null,
   "metadata": {
    "collapsed": true
   },
   "outputs": [],
   "source": []
  }
 ],
 "metadata": {
  "kernelspec": {
   "display_name": "Python 3",
   "language": "python",
   "name": "python3"
  },
  "language_info": {
   "codemirror_mode": {
    "name": "ipython",
    "version": 3
   },
   "file_extension": ".py",
   "mimetype": "text/x-python",
   "name": "python",
   "nbconvert_exporter": "python",
   "pygments_lexer": "ipython3",
   "version": "3.6.1"
  }
 },
 "nbformat": 4,
 "nbformat_minor": 2
}
